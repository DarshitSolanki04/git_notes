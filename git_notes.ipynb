{
 "cells": [
  {
   "cell_type": "markdown",
   "id": "9f5a2887",
   "metadata": {},
   "source": [
    "# GIT Tutorial"
   ]
  },
  {
   "cell_type": "markdown",
   "id": "e520fdac",
   "metadata": {},
   "source": [
    "- Git is a 'Distributed version control system.'\n",
    "- Nice GUI tools for git: GitKraken, Sourcetree (only available for Windows and Mac).\n",
    "- But CLI is the *ultimate* tool."
   ]
  },
  {
   "cell_type": "markdown",
   "id": "8fc8bf6e",
   "metadata": {},
   "source": [
    "## Check Git version:"
   ]
  },
  {
   "cell_type": "code",
   "execution_count": null,
   "id": "8a7317c6",
   "metadata": {},
   "outputs": [],
   "source": [
    "$ git --version\n",
    "git version _____________"
   ]
  },
  {
   "cell_type": "markdown",
   "id": "60262fcd",
   "metadata": {},
   "source": [
    "## Settings:"
   ]
  },
  {
   "cell_type": "markdown",
   "id": "30900839",
   "metadata": {},
   "source": [
    "- System level: All Users\n",
    "- Global level: All repositories of the current user.\n",
    "- Local level: The current repository.\n",
    "\n",
    "**NOTE:** All commands mentioned here are CLI commands."
   ]
  },
  {
   "cell_type": "markdown",
   "id": "2c43c774",
   "metadata": {},
   "source": [
    "## Set config values:"
   ]
  },
  {
   "cell_type": "code",
   "execution_count": null,
   "id": "69ee787d",
   "metadata": {},
   "outputs": [],
   "source": [
    "$ git config --global user.name \"your_username\"\n",
    "$ git config --global user.email \"your_email_ID\"\n",
    "$ git config --global core.editor \"code --wait\"  # Optional: To set VS Code as default editor for git in CLI.\n",
    "\n",
    "####----A very important setting that most people forget----####\n",
    "\n",
    "# It instructs git how it should handle EOL (End-of-Line).\n",
    "\n",
    "$ git config --global core.autocrlf input  # If using Mac/Linux.\n",
    "$ git config --global core.autocrlf true  # If using Windows.\n",
    "\n",
    "####--------####\n",
    "\n",
    "$ git config --global -e  # Opens the default editor (VS Code in this case) to edit all the 'global settings.'\n",
    "$ git config --list"
   ]
  },
  {
   "cell_type": "markdown",
   "id": "c805d43d",
   "metadata": {},
   "source": [
    "## For help:"
   ]
  },
  {
   "cell_type": "code",
   "execution_count": null,
   "id": "1f439390",
   "metadata": {},
   "outputs": [],
   "source": [
    "$ git help config\n",
    "\n",
    "$ git config --help  # Both commands display help for 'config'.\n",
    "\n",
    "$ git config -h  # Short description of help."
   ]
  },
  {
   "cell_type": "markdown",
   "id": "fae65b4f",
   "metadata": {},
   "source": [
    "## Initializing a directory on a local machine to track a project:"
   ]
  },
  {
   "cell_type": "code",
   "execution_count": null,
   "id": "862b99c9",
   "metadata": {},
   "outputs": [],
   "source": [
    "# Move into the directory where you want to track a project. The project file should be in this directory.\n",
    "$ cd path/to/project\n",
    "\n",
    "# Initializes the directory containing the project (located on local machine). This makes a '.git' directory to\n",
    "# track the project.\n",
    "$ git init\n",
    "\n",
    "\n",
    "# If you want to stop tracking the project then remove the '.git' directory. After which we are no longer tracking\n",
    "# the project with git. Warning: YOU WILL LOSE ALL THE GIT COMMIT HISTORY!\n",
    "$ rm -rf .git"
   ]
  },
  {
   "cell_type": "markdown",
   "id": "60c0e682",
   "metadata": {},
   "source": [
    "## Git Workflow:"
   ]
  },
  {
   "cell_type": "markdown",
   "id": "c2b2fa4a",
   "metadata": {},
   "source": [
    "![Git Workflow](images/image_1.png)"
   ]
  },
  {
   "cell_type": "markdown",
   "id": "78dda0e5",
   "metadata": {},
   "source": [
    "- The Staging Area/Index allows us to review our work before recording a snapshot."
   ]
  },
  {
   "cell_type": "markdown",
   "id": "2d30702e",
   "metadata": {},
   "source": [
    "### Before the first commit:"
   ]
  },
  {
   "cell_type": "code",
   "execution_count": null,
   "id": "d321efbf",
   "metadata": {},
   "outputs": [],
   "source": [
    "# Shows the status of the files i.e. which files are being currently tracked and not tracked by git.\n",
    "$ git status\n",
    "\n",
    "# To ignore some files that we don't want git to track. Create a '.gitignore' file.\n",
    "$ touch .gitignore  # In this file add all those files that we want git to ignore.\n",
    "\n",
    "# An example of a .gitignore file.\n",
    "\n",
    ".DS_Store\n",
    ".project\n",
    "*.pyc  # Ignores all files with the .pyc extension."
   ]
  },
  {
   "cell_type": "markdown",
   "id": "af66f06d",
   "metadata": {},
   "source": [
    "### Add files to the staging area:"
   ]
  },
  {
   "cell_type": "code",
   "execution_count": null,
   "id": "1f25f14f",
   "metadata": {},
   "outputs": [],
   "source": [
    "# To add everything to the staging area.\n",
    "$ git add -A\n",
    "OR\n",
    "$ git add .\n",
    "\n",
    "# To add files individually.\n",
    "$ git add name_of_file\n",
    "\n",
    "# To check status of files in the dir.\n",
    "$ git status"
   ]
  },
  {
   "cell_type": "markdown",
   "id": "41ec6152",
   "metadata": {},
   "source": [
    "### Remove files from the staging area:"
   ]
  },
  {
   "cell_type": "code",
   "execution_count": null,
   "id": "95263682",
   "metadata": {},
   "outputs": [],
   "source": [
    "# To remove everything.\n",
    "$ git reset\n",
    "\n",
    "# To remove a particular file.\n",
    "$ git reset name_of_file\n",
    "\n",
    "$ git status\n",
    "OR\n",
    "$ git status -s  # The -s switch is for short status, in the output the first column on the far right corresponds\n",
    "                 # to 'staging area/index' and the next column beside it corresponds to 'working dir'.\n",
    " M some_file\n",
    "?? some_other_file"
   ]
  },
  {
   "cell_type": "markdown",
   "id": "f3437b0d",
   "metadata": {},
   "source": [
    "### Our first commit:"
   ]
  },
  {
   "cell_type": "code",
   "execution_count": null,
   "id": "7b277404",
   "metadata": {},
   "outputs": [],
   "source": [
    "$ git add -A\n",
    "\n",
    "# Commits the file.\n",
    "$ git commit -m \"A short description of the commit.\"\n",
    "\n",
    "# Or to include a detailed description do:\n",
    "$ git commit  # Opens the file 'COMMIT_EDITMSG' in which a short msg and a description of the commit can be added.\n",
    "\n",
    "$ git status\n",
    "\n",
    "$ git log  # Shows the logs of the commits.\n",
    "\n",
    "-------------------------------------------------------------------------------------------------------------------\n",
    "# commit xxxxxxxxxxxxxxxxxxxxxxxxxxxxxxxxxxxxxxxxx (shows the hash no. of that commit)\n",
    "# Author: xxxxxxxxxxx\n",
    "# Date: xxxxxxxxxxxxx\n",
    "\n",
    "# \"Commited msg.\"\n",
    "-------------------------------------------------------------------------------------------------------------------\n",
    "\n",
    "$ git log --oneline  # For short summary."
   ]
  },
  {
   "cell_type": "code",
   "execution_count": null,
   "id": "b0a3c6b9",
   "metadata": {},
   "outputs": [],
   "source": [
    "####----NOT RECOMMENDED!----####\n",
    "\n",
    "# To commit without sending the files to the staging area.\n",
    "$ git commit -am \"Comment/msg.\"  # Do this only if you know what you are doing!"
   ]
  },
  {
   "cell_type": "code",
   "execution_count": null,
   "id": "4fd1183f",
   "metadata": {},
   "outputs": [],
   "source": [
    "# Shows files currently in the staging area.\n",
    "$ git ls-files\n",
    "\n",
    "# Single git command for removing a file from both working directory and staging area.\n",
    "$ git rm file_name_1 file_name_2\n",
    "\n",
    "# Single git command for renaming files. Otherwise we need to add the old file to the staging area again to\n",
    "# 'remove' it and then we need to add the renamed file too to the staging area to add it. Try it!\n",
    "$ git mv file_name new_file_name"
   ]
  },
  {
   "cell_type": "markdown",
   "id": "64748e39",
   "metadata": {},
   "source": [
    "### Restoring a file from a previous version:"
   ]
  },
  {
   "cell_type": "code",
   "execution_count": null,
   "id": "af7b82a8",
   "metadata": {},
   "outputs": [],
   "source": [
    "$ git restore  # Use 'git restore -h' to look at the documentation."
   ]
  },
  {
   "cell_type": "markdown",
   "id": "131c1e62",
   "metadata": {},
   "source": [
    "**Note:** *After the commit the staging area does not become empty. It is still populated with all the files that we added.*"
   ]
  },
  {
   "cell_type": "markdown",
   "id": "841cb9a2",
   "metadata": {},
   "source": [
    "## Cloning a remote repo:"
   ]
  },
  {
   "cell_type": "code",
   "execution_count": null,
   "id": "9b0d0999",
   "metadata": {},
   "outputs": [],
   "source": [
    "$ git clone <url> <where to clone>\n",
    "\n",
    "# e.g.:\n",
    "\n",
    "$ git clone ../remote_repo.git .  # '../remote_repo' is the dir on the local machine and can behave as remote repo.\n",
    "                                  # '.' means current dir."
   ]
  },
  {
   "cell_type": "markdown",
   "id": "4a873a92",
   "metadata": {},
   "source": [
    "### Viewing information about the remote repo:"
   ]
  },
  {
   "cell_type": "code",
   "execution_count": null,
   "id": "ad6103f1",
   "metadata": {},
   "outputs": [],
   "source": [
    "$ git remote -v\n",
    "\n",
    "$ git branch -a  # To see all the branches."
   ]
  },
  {
   "cell_type": "markdown",
   "id": "526d876c",
   "metadata": {},
   "source": [
    "## Pushing changes:"
   ]
  },
  {
   "cell_type": "markdown",
   "id": "9dbcbdec",
   "metadata": {},
   "source": [
    "### Commit changes like we did previously:"
   ]
  },
  {
   "cell_type": "code",
   "execution_count": null,
   "id": "0d2932a3",
   "metadata": {},
   "outputs": [],
   "source": [
    "$ git diff  # Shows the changes between the working directory and the last commit.\n",
    "\n",
    "$ git diff --staged  # Shows the changes between the staging area (index) and the last commit.\n",
    "\n",
    "$ git status\n",
    "\n",
    "$ git add -A\n",
    "\n",
    "$ git commit -m \"Comment/msg.\"  # Commits the file locally."
   ]
  },
  {
   "cell_type": "markdown",
   "id": "ce545778",
   "metadata": {},
   "source": [
    "### Then push:"
   ]
  },
  {
   "cell_type": "code",
   "execution_count": null,
   "id": "56964829",
   "metadata": {},
   "outputs": [],
   "source": [
    "$ git pull origin master  # It will pull any changes that have been made since the last time that we pulled from\n",
    "                          # that repo.\n",
    "\n",
    "$ git push origin master  # 'origin' is the name of the 'remote repo' and 'master' is the branch that we wanna push\n",
    "                          # to."
   ]
  },
  {
   "cell_type": "code",
   "execution_count": null,
   "id": "0e7d71e3",
   "metadata": {},
   "outputs": [],
   "source": [
    "# If both the source and target are on the same machine then 'git push origin master' will not execute successfully\n",
    "# because you are 'logged in' in both the directories. So, in the target dir where we are pushing we need to\n",
    "# execute the command:\n",
    "\n",
    "$ git checkout -b tmp  # Found from the stack exchange.\n",
    "Switched to a new branch 'tmp'"
   ]
  },
  {
   "cell_type": "markdown",
   "id": "f9a5f8a1",
   "metadata": {},
   "source": [
    "## Common Workflow:"
   ]
  },
  {
   "cell_type": "markdown",
   "id": "3ce803d0",
   "metadata": {},
   "source": [
    "### Create a branch for desired feature:"
   ]
  },
  {
   "cell_type": "code",
   "execution_count": null,
   "id": "7c019c2a",
   "metadata": {},
   "outputs": [],
   "source": [
    "$ git branch calc-divide  # Creates a branch with the name 'calc-divide'.\n",
    "\n",
    "$ git checkout calc-divide  # Switches to the 'calc-divide' branch.\n",
    "\n",
    "# After making any modifications do '$ git add -A' and '$ git commit -m \"message\"' as explained before."
   ]
  },
  {
   "cell_type": "markdown",
   "id": "2105c375",
   "metadata": {},
   "source": [
    "### After commit put branch to remote:"
   ]
  },
  {
   "cell_type": "code",
   "execution_count": null,
   "id": "ece80585",
   "metadata": {},
   "outputs": [],
   "source": [
    "$ git push -u origin calc-divide  # '-u' tells git to associate local 'calc-divide' branch with the remote\n",
    "                                  # 'calc-divide' branch. So later on we can simply use '$ git pull' and\n",
    "                                  # '$ git push' and it will automatically know that the two branches are\n",
    "                                  # associated.\n",
    "            \n",
    "$ git branch -a  # To see ALL the branches.\n",
    "\n",
    "$ git branch  # To see all the branches in the current repo."
   ]
  },
  {
   "cell_type": "markdown",
   "id": "b0620c8d",
   "metadata": {},
   "source": [
    "### Merge a branch:"
   ]
  },
  {
   "cell_type": "code",
   "execution_count": null,
   "id": "fd0dbd3a",
   "metadata": {},
   "outputs": [],
   "source": [
    "$ git checkout master\n",
    "\n",
    "$ git pull origin master\n",
    "\n",
    "$ git branch --merged  # Showes merged branches.\n",
    "\n",
    "$ git merge calc-divide  # This merges the calc-divide branch with the master branch.\n",
    "\n",
    "$ git push origin master"
   ]
  },
  {
   "cell_type": "markdown",
   "id": "fc8f2eee",
   "metadata": {},
   "source": [
    "### Deleting a branch:"
   ]
  },
  {
   "cell_type": "code",
   "execution_count": null,
   "id": "e7650af1",
   "metadata": {},
   "outputs": [],
   "source": [
    "$ git branch --merged\n",
    "\n",
    "$ git branch -d calc-divide  # Deletes the calc-divide branch locally.\n",
    "\n",
    "$ git branch -a\n",
    "\n",
    "$ git push origin --delete calc-divide  # Deletes the branch from the remote repo."
   ]
  },
  {
   "cell_type": "markdown",
   "id": "0fec5e38",
   "metadata": {},
   "source": [
    "## Example:"
   ]
  },
  {
   "cell_type": "code",
   "execution_count": null,
   "id": "29009109",
   "metadata": {},
   "outputs": [],
   "source": [
    "# In the cloned-repo.\n",
    "$ git branch subtract\n",
    "\n",
    "$ git checkout subtract\n",
    "\n",
    "# Make whatever changes you want.\n",
    "$ git status\n",
    "\n",
    "$ git add -A\n",
    "\n",
    "$ git commit -m \"Modified subtract function\"\n",
    "\n",
    "$ git push -u origin subtract\n",
    "\n",
    "$ git checkout master\n",
    "\n",
    "$ git pull origin master\n",
    "\n",
    "$ git merge subtract\n",
    "\n",
    "$ git push origin master\n",
    "\n",
    "# Then carry on deleting the branch as mentioned before."
   ]
  },
  {
   "cell_type": "markdown",
   "id": "226c0277",
   "metadata": {},
   "source": [
    "## Making a GitHub repository through command line:"
   ]
  },
  {
   "cell_type": "code",
   "execution_count": null,
   "id": "1239d03a",
   "metadata": {},
   "outputs": [],
   "source": [
    "$ git init  # To initialise the local repo. AND add all files, commit and then PUSH.\n",
    "\n",
    "$ hub create --private/-p  # Use flag --private or -p to create a private repo.\n",
    "\n",
    "$ git push -u origin master  # To push the repo.\n",
    "\n",
    "'''\n",
    "The project page suggests aliasing 'git' to 'hub' (because the latter forwards unknown commands to git), but I\n",
    "don't recommend this.\n",
    "'''"
   ]
  }
 ],
 "metadata": {
  "kernelspec": {
   "display_name": "Python 3 (ipykernel)",
   "language": "python",
   "name": "python3"
  },
  "language_info": {
   "codemirror_mode": {
    "name": "ipython",
    "version": 3
   },
   "file_extension": ".py",
   "mimetype": "text/x-python",
   "name": "python",
   "nbconvert_exporter": "python",
   "pygments_lexer": "ipython3",
   "version": "3.10.10"
  }
 },
 "nbformat": 4,
 "nbformat_minor": 5
}
